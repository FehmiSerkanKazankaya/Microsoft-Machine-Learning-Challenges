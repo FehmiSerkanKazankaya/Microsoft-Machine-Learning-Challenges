{
  "cells": [
    {
      "cell_type": "markdown",
      "metadata": {
        "id": "6SokOuBr2dou"
      },
      "source": [
        "# Classification Challenge\n",
        "\n",
        "Wine experts can identify wines from specific vineyards through smell and taste, but the factors that give different wines their individual charateristics are actually based on their chemical composition.\n",
        "\n",
        "In this challenge, you must train a classification model to analyze the chemical and visual features of wine samples and classify them based on their cultivar (grape variety).\n",
        "\n"
      ]
    },
    {
      "cell_type": "markdown",
      "metadata": {
        "id": "-hvsBvAN2dow"
      },
      "source": [
        "## Explore the data\n",
        "\n",
        "\n",
        "\n",
        "- **0** (*variety A*)\n",
        "- **1** (*variety B*)\n",
        "- **2** (*variety C*)"
      ]
    },
    {
      "cell_type": "markdown",
      "metadata": {
        "id": "3Dk1GuHt2doy"
      },
      "source": [
        "Your challenge is to explore the data and train a classification model that achieves an overall *Recall* metric of over 0.95 (95%).\n",
        "\n"
      ]
    },
    {
      "cell_type": "markdown",
      "metadata": {
        "id": "uY_O6_bf2doy"
      },
      "source": [
        "## Train and evaluate a model\n",
        "\n",
        "Add markdown and code cells as required to to explore the data, train a model, and evaluate the model's predictive performance."
      ]
    },
    {
      "cell_type": "markdown",
      "metadata": {
        "id": "vlVWTdOX2doy"
      },
      "source": [
        "## Use the model with new data observation\n",
        "\n",
        "When you're happy with your model's predictive performance, save it and then use it to predict classes for the following two new wine samples:\n",
        "\n",
        "- \\[13.72,1.43,2.5,16.7,108,3.4,3.67,0.19,2.04,6.8,0.89,2.87,1285\\]\n",
        "- \\[12.37,0.94,1.36,10.6,88,1.98,0.57,0.28,0.42,1.95,1.05,1.82,520\\]\n"
      ]
    }
  ],
  "metadata": {
    "kernelspec": {
      "display_name": "Python 3.6 - AzureML",
      "language": "python",
      "name": "python3-azureml"
    },
    "language_info": {
      "codemirror_mode": {
        "name": "ipython",
        "version": 3
      },
      "file_extension": ".py",
      "mimetype": "text/x-python",
      "name": "python",
      "nbconvert_exporter": "python",
      "pygments_lexer": "ipython3",
      "version": "3.6.9"
    },
    "colab": {
      "provenance": []
    }
  },
  "nbformat": 4,
  "nbformat_minor": 0
}