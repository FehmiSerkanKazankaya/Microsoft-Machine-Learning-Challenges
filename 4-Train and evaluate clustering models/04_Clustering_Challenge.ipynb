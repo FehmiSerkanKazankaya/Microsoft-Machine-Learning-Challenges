{
  "cells": [
    {
      "cell_type": "markdown",
      "metadata": {
        "id": "LFeEWylF781N"
      },
      "source": [
        "# Clustering Challenge\n",
        "\n",
        "Clustering is an *unsupervised* machine learning technique in which you train a model to group similar entities into clusters based on their features.\n",
        "\n",
        "In this exercise, you must separate a dataset consisting of three numeric features (**A**, **B**, and **C**) into clusters."
      ]
    },
    {
      "cell_type": "markdown",
      "metadata": {
        "id": "eBTxv8hY781Q"
      },
      "source": [
        "Your challenge is to identify the number of discrete clusters present in the data, and create a clustering model that separates the data into that number of clusters. You should also visualize the clusters to evaluate the level of separation achieved by your model.\n",
        "\n",
        "\n"
      ]
    }
  ],
  "metadata": {
    "kernelspec": {
      "display_name": "Python 3.6 - AzureML",
      "language": "python",
      "name": "python3-azureml"
    },
    "language_info": {
      "codemirror_mode": {
        "name": "ipython",
        "version": 3
      },
      "file_extension": ".py",
      "mimetype": "text/x-python",
      "name": "python",
      "nbconvert_exporter": "python",
      "pygments_lexer": "ipython3",
      "version": "3.6.9"
    },
    "colab": {
      "provenance": []
    }
  },
  "nbformat": 4,
  "nbformat_minor": 0
}